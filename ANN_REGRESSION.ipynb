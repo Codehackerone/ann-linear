{
  "nbformat": 4,
  "nbformat_minor": 0,
  "metadata": {
    "colab": {
      "name": "ANN REGRESSION.ipynb",
      "provenance": [],
      "collapsed_sections": [],
      "toc_visible": true
    },
    "kernelspec": {
      "name": "python3",
      "display_name": "Python 3"
    }
  },
  "cells": [
    {
      "cell_type": "markdown",
      "metadata": {
        "id": "3cbb7fRy-eyr"
      },
      "source": [
        "# Artificial Neural Network"
      ]
    },
    {
      "cell_type": "markdown",
      "metadata": {
        "id": "8sNDnxE2-pwE"
      },
      "source": [
        "### Importing the libraries"
      ]
    },
    {
      "cell_type": "code",
      "metadata": {
        "id": "lxChR1Rk-umf"
      },
      "source": [
        "import numpy as np\n",
        "import pandas as pd\n",
        "import tensorflow as tf"
      ],
      "execution_count": 1,
      "outputs": []
    },
    {
      "cell_type": "code",
      "metadata": {
        "id": "uBTqR3nacj0e",
        "colab": {
          "base_uri": "https://localhost:8080/",
          "height": 35
        },
        "outputId": "80abbab9-507e-461a-e5d0-4773749c5770"
      },
      "source": [
        "tf.__version__"
      ],
      "execution_count": 2,
      "outputs": [
        {
          "output_type": "execute_result",
          "data": {
            "application/vnd.google.colaboratory.intrinsic+json": {
              "type": "string"
            },
            "text/plain": [
              "'2.4.1'"
            ]
          },
          "metadata": {
            "tags": []
          },
          "execution_count": 2
        }
      ]
    },
    {
      "cell_type": "markdown",
      "metadata": {
        "id": "AG3FQEch-yuA"
      },
      "source": [
        "## Part 1 - Data Preprocessing"
      ]
    },
    {
      "cell_type": "markdown",
      "metadata": {
        "id": "-4zq8Mza_D9O"
      },
      "source": [
        "### Importing the dataset"
      ]
    },
    {
      "cell_type": "code",
      "metadata": {
        "id": "B9CV13Co_HHM",
        "colab": {
          "base_uri": "https://localhost:8080/"
        },
        "outputId": "d5c2ccbd-3ca7-4eb2-e58e-9d1a321948dc"
      },
      "source": [
        "dataset = pd.read_excel('Folds5x2_pp.xlsx')\n",
        "X = dataset.iloc[:, :-1].values\n",
        "y = dataset.iloc[:, -1].values\n",
        "print(dataset)"
      ],
      "execution_count": 3,
      "outputs": [
        {
          "output_type": "stream",
          "text": [
            "         AT      V       AP     RH      PE\n",
            "0     14.96  41.76  1024.07  73.17  463.26\n",
            "1     25.18  62.96  1020.04  59.08  444.37\n",
            "2      5.11  39.40  1012.16  92.14  488.56\n",
            "3     20.86  57.32  1010.24  76.64  446.48\n",
            "4     10.82  37.50  1009.23  96.62  473.90\n",
            "...     ...    ...      ...    ...     ...\n",
            "9563  16.65  49.69  1014.01  91.00  460.03\n",
            "9564  13.19  39.18  1023.67  66.78  469.62\n",
            "9565  31.32  74.33  1012.92  36.48  429.57\n",
            "9566  24.48  69.45  1013.86  62.39  435.74\n",
            "9567  21.60  62.52  1017.23  67.87  453.28\n",
            "\n",
            "[9568 rows x 5 columns]\n"
          ],
          "name": "stdout"
        }
      ]
    },
    {
      "cell_type": "markdown",
      "metadata": {
        "id": "VC6omXel_Up0"
      },
      "source": [
        "### Splitting the dataset into the Training set and Test set"
      ]
    },
    {
      "cell_type": "code",
      "metadata": {
        "id": "L5edeb2r_agx"
      },
      "source": [
        "from sklearn.model_selection import train_test_split\n",
        "X_train, X_test, y_train, y_test = train_test_split(X, y, test_size = 0.2, random_state = 0)"
      ],
      "execution_count": 4,
      "outputs": []
    },
    {
      "cell_type": "markdown",
      "metadata": {
        "id": "_mSLlAT9_eyI"
      },
      "source": [
        "## Part 2 - Building the ANN"
      ]
    },
    {
      "cell_type": "markdown",
      "metadata": {
        "id": "CsBULd_f_wLY"
      },
      "source": [
        "### Initializing the ANN"
      ]
    },
    {
      "cell_type": "code",
      "metadata": {
        "id": "J6Hd97Ls__Nz"
      },
      "source": [
        "ann = tf.keras.models.Sequential()"
      ],
      "execution_count": 5,
      "outputs": []
    },
    {
      "cell_type": "markdown",
      "metadata": {
        "id": "iitAFJS_ABUn"
      },
      "source": [
        "### Adding the input layer and the first hidden layer"
      ]
    },
    {
      "cell_type": "code",
      "metadata": {
        "id": "ksO_Vv40AHix"
      },
      "source": [
        "ann.add(tf.keras.layers.Dense(units=6, activation='relu'))"
      ],
      "execution_count": 6,
      "outputs": []
    },
    {
      "cell_type": "markdown",
      "metadata": {
        "id": "-lb4kK_wAKbs"
      },
      "source": [
        "### Adding the second hidden layer"
      ]
    },
    {
      "cell_type": "code",
      "metadata": {
        "id": "c2357OqEAQOQ"
      },
      "source": [
        "ann.add(tf.keras.layers.Dense(units=6, activation='relu'))"
      ],
      "execution_count": 7,
      "outputs": []
    },
    {
      "cell_type": "markdown",
      "metadata": {
        "id": "jwMOmKb3AdBY"
      },
      "source": [
        "### Adding the output layer"
      ]
    },
    {
      "cell_type": "code",
      "metadata": {
        "id": "YFATpzsUAkLL"
      },
      "source": [
        "ann.add(tf.keras.layers.Dense(units=1))"
      ],
      "execution_count": 8,
      "outputs": []
    },
    {
      "cell_type": "markdown",
      "metadata": {
        "id": "fq7e4fF6A1yy"
      },
      "source": [
        "## Part 3 - Training the ANN"
      ]
    },
    {
      "cell_type": "markdown",
      "metadata": {
        "id": "qDeylAs2An25"
      },
      "source": [
        "### Compiling the ANN"
      ]
    },
    {
      "cell_type": "code",
      "metadata": {
        "id": "pesgbWlCAtB4"
      },
      "source": [
        "ann.compile(optimizer = 'adam', loss = 'mean_squared_error')"
      ],
      "execution_count": 9,
      "outputs": []
    },
    {
      "cell_type": "markdown",
      "metadata": {
        "id": "YjVuiybYOo7r"
      },
      "source": [
        "### Training the ANN model on the Training set"
      ]
    },
    {
      "cell_type": "code",
      "metadata": {
        "id": "c_vV-tiiA5zn",
        "colab": {
          "base_uri": "https://localhost:8080/"
        },
        "outputId": "f97f7785-d147-404f-fdb4-2cab59885915"
      },
      "source": [
        "ann.fit(X_train, y_train, batch_size = 32, epochs = 100)"
      ],
      "execution_count": 10,
      "outputs": [
        {
          "output_type": "stream",
          "text": [
            "Epoch 1/100\n",
            "240/240 [==============================] - 1s 965us/step - loss: 233.7306\n",
            "Epoch 2/100\n",
            "240/240 [==============================] - 0s 962us/step - loss: 163.2618\n",
            "Epoch 3/100\n",
            "240/240 [==============================] - 0s 994us/step - loss: 130.0215\n",
            "Epoch 4/100\n",
            "240/240 [==============================] - 0s 904us/step - loss: 103.3707\n",
            "Epoch 5/100\n",
            "240/240 [==============================] - 0s 942us/step - loss: 80.1988\n",
            "Epoch 6/100\n",
            "240/240 [==============================] - 0s 905us/step - loss: 66.3462\n",
            "Epoch 7/100\n",
            "240/240 [==============================] - 0s 925us/step - loss: 57.5497\n",
            "Epoch 8/100\n",
            "240/240 [==============================] - 0s 908us/step - loss: 50.5289\n",
            "Epoch 9/100\n",
            "240/240 [==============================] - 0s 889us/step - loss: 44.7885\n",
            "Epoch 10/100\n",
            "240/240 [==============================] - 0s 957us/step - loss: 41.5696\n",
            "Epoch 11/100\n",
            "240/240 [==============================] - 0s 919us/step - loss: 39.6804\n",
            "Epoch 12/100\n",
            "240/240 [==============================] - 0s 896us/step - loss: 35.8321\n",
            "Epoch 13/100\n",
            "240/240 [==============================] - 0s 944us/step - loss: 36.5852\n",
            "Epoch 14/100\n",
            "240/240 [==============================] - 0s 890us/step - loss: 34.8416\n",
            "Epoch 15/100\n",
            "240/240 [==============================] - 0s 926us/step - loss: 33.7247\n",
            "Epoch 16/100\n",
            "240/240 [==============================] - 0s 945us/step - loss: 33.3999\n",
            "Epoch 17/100\n",
            "240/240 [==============================] - 0s 952us/step - loss: 32.8815\n",
            "Epoch 18/100\n",
            "240/240 [==============================] - 0s 883us/step - loss: 32.1161\n",
            "Epoch 19/100\n",
            "240/240 [==============================] - 0s 939us/step - loss: 31.2103\n",
            "Epoch 20/100\n",
            "240/240 [==============================] - 0s 929us/step - loss: 31.4518\n",
            "Epoch 21/100\n",
            "240/240 [==============================] - 0s 919us/step - loss: 31.2392\n",
            "Epoch 22/100\n",
            "240/240 [==============================] - 0s 952us/step - loss: 30.9339\n",
            "Epoch 23/100\n",
            "240/240 [==============================] - 0s 1ms/step - loss: 30.9847\n",
            "Epoch 24/100\n",
            "240/240 [==============================] - 0s 893us/step - loss: 28.9677\n",
            "Epoch 25/100\n",
            "240/240 [==============================] - 0s 916us/step - loss: 29.9934\n",
            "Epoch 26/100\n",
            "240/240 [==============================] - 0s 961us/step - loss: 29.5369\n",
            "Epoch 27/100\n",
            "240/240 [==============================] - 0s 978us/step - loss: 28.5976\n",
            "Epoch 28/100\n",
            "240/240 [==============================] - 0s 910us/step - loss: 28.7599\n",
            "Epoch 29/100\n",
            "240/240 [==============================] - 0s 885us/step - loss: 28.4156\n",
            "Epoch 30/100\n",
            "240/240 [==============================] - 0s 973us/step - loss: 28.4365\n",
            "Epoch 31/100\n",
            "240/240 [==============================] - 0s 879us/step - loss: 29.2314\n",
            "Epoch 32/100\n",
            "240/240 [==============================] - 0s 930us/step - loss: 28.0559\n",
            "Epoch 33/100\n",
            "240/240 [==============================] - 0s 893us/step - loss: 26.5499\n",
            "Epoch 34/100\n",
            "240/240 [==============================] - 0s 948us/step - loss: 27.9096\n",
            "Epoch 35/100\n",
            "240/240 [==============================] - 0s 901us/step - loss: 27.4652\n",
            "Epoch 36/100\n",
            "240/240 [==============================] - 0s 890us/step - loss: 27.1885\n",
            "Epoch 37/100\n",
            "240/240 [==============================] - 0s 888us/step - loss: 29.0716\n",
            "Epoch 38/100\n",
            "240/240 [==============================] - 0s 984us/step - loss: 26.4936\n",
            "Epoch 39/100\n",
            "240/240 [==============================] - 0s 1ms/step - loss: 27.2540\n",
            "Epoch 40/100\n",
            "240/240 [==============================] - 0s 974us/step - loss: 27.2459\n",
            "Epoch 41/100\n",
            "240/240 [==============================] - 0s 903us/step - loss: 28.3632\n",
            "Epoch 42/100\n",
            "240/240 [==============================] - 0s 906us/step - loss: 28.7834\n",
            "Epoch 43/100\n",
            "240/240 [==============================] - 0s 980us/step - loss: 27.4795\n",
            "Epoch 44/100\n",
            "240/240 [==============================] - 0s 982us/step - loss: 26.9854\n",
            "Epoch 45/100\n",
            "240/240 [==============================] - 0s 890us/step - loss: 27.0125\n",
            "Epoch 46/100\n",
            "240/240 [==============================] - 0s 944us/step - loss: 27.0099\n",
            "Epoch 47/100\n",
            "240/240 [==============================] - 0s 970us/step - loss: 26.5200\n",
            "Epoch 48/100\n",
            "240/240 [==============================] - 0s 881us/step - loss: 27.3625\n",
            "Epoch 49/100\n",
            "240/240 [==============================] - 0s 901us/step - loss: 27.6400\n",
            "Epoch 50/100\n",
            "240/240 [==============================] - 0s 932us/step - loss: 26.9462\n",
            "Epoch 51/100\n",
            "240/240 [==============================] - 0s 864us/step - loss: 27.5447\n",
            "Epoch 52/100\n",
            "240/240 [==============================] - 0s 974us/step - loss: 27.2314\n",
            "Epoch 53/100\n",
            "240/240 [==============================] - 0s 932us/step - loss: 26.7291\n",
            "Epoch 54/100\n",
            "240/240 [==============================] - 0s 891us/step - loss: 25.2708\n",
            "Epoch 55/100\n",
            "240/240 [==============================] - 0s 873us/step - loss: 25.3853\n",
            "Epoch 56/100\n",
            "240/240 [==============================] - 0s 736us/step - loss: 28.0231\n",
            "Epoch 57/100\n",
            "240/240 [==============================] - 0s 941us/step - loss: 28.1581\n",
            "Epoch 58/100\n",
            "240/240 [==============================] - 0s 938us/step - loss: 26.7021\n",
            "Epoch 59/100\n",
            "240/240 [==============================] - 0s 941us/step - loss: 27.5339\n",
            "Epoch 60/100\n",
            "240/240 [==============================] - 0s 926us/step - loss: 26.3801\n",
            "Epoch 61/100\n",
            "240/240 [==============================] - 0s 944us/step - loss: 27.3674\n",
            "Epoch 62/100\n",
            "240/240 [==============================] - 0s 872us/step - loss: 26.0451\n",
            "Epoch 63/100\n",
            "240/240 [==============================] - 0s 791us/step - loss: 25.8473\n",
            "Epoch 64/100\n",
            "240/240 [==============================] - 0s 947us/step - loss: 26.3827\n",
            "Epoch 65/100\n",
            "240/240 [==============================] - 0s 915us/step - loss: 26.7420\n",
            "Epoch 66/100\n",
            "240/240 [==============================] - 0s 895us/step - loss: 27.0187\n",
            "Epoch 67/100\n",
            "240/240 [==============================] - 0s 910us/step - loss: 26.2097\n",
            "Epoch 68/100\n",
            "240/240 [==============================] - 0s 949us/step - loss: 27.6750\n",
            "Epoch 69/100\n",
            "240/240 [==============================] - 0s 902us/step - loss: 26.7608\n",
            "Epoch 70/100\n",
            "240/240 [==============================] - 0s 993us/step - loss: 28.2580\n",
            "Epoch 71/100\n",
            "240/240 [==============================] - 0s 962us/step - loss: 26.3650\n",
            "Epoch 72/100\n",
            "240/240 [==============================] - 0s 1ms/step - loss: 26.7422\n",
            "Epoch 73/100\n",
            "240/240 [==============================] - 0s 1ms/step - loss: 27.3656\n",
            "Epoch 74/100\n",
            "240/240 [==============================] - 0s 994us/step - loss: 26.5499\n",
            "Epoch 75/100\n",
            "240/240 [==============================] - 0s 971us/step - loss: 27.0717\n",
            "Epoch 76/100\n",
            "240/240 [==============================] - 0s 899us/step - loss: 27.1898\n",
            "Epoch 77/100\n",
            "240/240 [==============================] - 0s 965us/step - loss: 27.2780\n",
            "Epoch 78/100\n",
            "240/240 [==============================] - 0s 974us/step - loss: 27.2941\n",
            "Epoch 79/100\n",
            "240/240 [==============================] - 0s 1ms/step - loss: 26.9236\n",
            "Epoch 80/100\n",
            "240/240 [==============================] - 0s 1ms/step - loss: 26.3716\n",
            "Epoch 81/100\n",
            "240/240 [==============================] - 0s 932us/step - loss: 26.4846\n",
            "Epoch 82/100\n",
            "240/240 [==============================] - 0s 1ms/step - loss: 27.2523\n",
            "Epoch 83/100\n",
            "240/240 [==============================] - 0s 1ms/step - loss: 27.3943\n",
            "Epoch 84/100\n",
            "240/240 [==============================] - 0s 992us/step - loss: 26.8552\n",
            "Epoch 85/100\n",
            "240/240 [==============================] - 0s 926us/step - loss: 26.5558\n",
            "Epoch 86/100\n",
            "240/240 [==============================] - 0s 1ms/step - loss: 26.8036\n",
            "Epoch 87/100\n",
            "240/240 [==============================] - 0s 1ms/step - loss: 27.0698\n",
            "Epoch 88/100\n",
            "240/240 [==============================] - 0s 954us/step - loss: 26.2581\n",
            "Epoch 89/100\n",
            "240/240 [==============================] - 0s 933us/step - loss: 26.4020\n",
            "Epoch 90/100\n",
            "240/240 [==============================] - 0s 942us/step - loss: 27.1184\n",
            "Epoch 91/100\n",
            "240/240 [==============================] - 0s 984us/step - loss: 26.9359\n",
            "Epoch 92/100\n",
            "240/240 [==============================] - 0s 992us/step - loss: 26.9034\n",
            "Epoch 93/100\n",
            "240/240 [==============================] - 0s 983us/step - loss: 27.7439\n",
            "Epoch 94/100\n",
            "240/240 [==============================] - 0s 1ms/step - loss: 28.1748\n",
            "Epoch 95/100\n",
            "240/240 [==============================] - 0s 997us/step - loss: 26.0309\n",
            "Epoch 96/100\n",
            "240/240 [==============================] - 0s 1ms/step - loss: 26.7187\n",
            "Epoch 97/100\n",
            "240/240 [==============================] - 0s 949us/step - loss: 27.5841\n",
            "Epoch 98/100\n",
            "240/240 [==============================] - 0s 848us/step - loss: 26.1915\n",
            "Epoch 99/100\n",
            "240/240 [==============================] - 0s 1ms/step - loss: 26.7656\n",
            "Epoch 100/100\n",
            "240/240 [==============================] - 0s 1ms/step - loss: 26.3290\n"
          ],
          "name": "stdout"
        },
        {
          "output_type": "execute_result",
          "data": {
            "text/plain": [
              "<tensorflow.python.keras.callbacks.History at 0x7f2c0e306208>"
            ]
          },
          "metadata": {
            "tags": []
          },
          "execution_count": 10
        }
      ]
    },
    {
      "cell_type": "markdown",
      "metadata": {
        "id": "0H0zKKNEBLD5"
      },
      "source": [
        "### Predicting the results of the Test set"
      ]
    },
    {
      "cell_type": "code",
      "metadata": {
        "id": "IA0yApEmBG1X",
        "colab": {
          "base_uri": "https://localhost:8080/"
        },
        "outputId": "6c05b974-1654-4595-cece-fdff9fe469bd"
      },
      "source": [
        "y_pred = ann.predict(X_test)\n",
        "np.set_printoptions(precision=2)\n",
        "print(np.concatenate((y_pred.reshape(len(y_pred),1), y_test.reshape(len(y_test),1)),1))"
      ],
      "execution_count": 11,
      "outputs": [
        {
          "output_type": "stream",
          "text": [
            "[[431.33 431.23]\n",
            " [462.39 460.01]\n",
            " [465.89 461.14]\n",
            " ...\n",
            " [473.13 473.26]\n",
            " [439.91 438.  ]\n",
            " [459.12 463.28]]\n"
          ],
          "name": "stdout"
        }
      ]
    }
  ]
}